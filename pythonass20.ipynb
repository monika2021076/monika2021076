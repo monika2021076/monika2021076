{
  "nbformat": 4,
  "nbformat_minor": 0,
  "metadata": {
    "colab": {
      "name": "pythonass20.ipynb",
      "provenance": [],
      "collapsed_sections": [],
      "authorship_tag": "ABX9TyPkGBaq4vDOr+ZxAou/XZ8S",
      "include_colab_link": true
    },
    "kernelspec": {
      "name": "python3",
      "display_name": "Python 3"
    },
    "language_info": {
      "name": "python"
    }
  },
  "cells": [
    {
      "cell_type": "markdown",
      "metadata": {
        "id": "view-in-github",
        "colab_type": "text"
      },
      "source": [
        "<a href=\"https://colab.research.google.com/github/monika2021076/monika2021076/blob/main/pythonass20.ipynb\" target=\"_parent\"><img src=\"https://colab.research.google.com/assets/colab-badge.svg\" alt=\"Open In Colab\"/></a>"
      ]
    },
    {
      "cell_type": "markdown",
      "metadata": {
        "id": "_P0piy_T-LRd"
      },
      "source": [
        "1. Interchange the first and second last element of the list."
      ]
    },
    {
      "cell_type": "code",
      "metadata": {
        "colab": {
          "base_uri": "https://localhost:8080/"
        },
        "id": "3RmiMHWV6OZb",
        "outputId": "52c390cb-946f-4bab-8239-1baffc68bce2"
      },
      "source": [
        "#creating a function  \n",
        "def swap_pos(lst,a,b):  \n",
        "#using the swapping approach  \n",
        "    lst[a], lst[b] = lst[b], lst[a]  \n",
        "    return lst  \n",
        "#initialising the list  \n",
        "lst_val = [2,7,8,7,9,3,5,4,1,0,11,12,17] \n",
        "#displaying the original list  \n",
        "print(\"The values inside the list are: \",lst_val)  \n",
        "#specifying the positions  \n",
        "a, b = 0,-1 \n",
        "#passing the values in function  \n",
        "print(\"The list with swapped elements is: \",swap_pos(lst_val,a,b))  "
      ],
      "execution_count": null,
      "outputs": [
        {
          "output_type": "stream",
          "name": "stdout",
          "text": [
            "The values inside the list are:  [2, 7, 8, 7, 9, 3, 5, 4, 1, 0, 11, 12, 17]\n",
            "The list with swapped elements is:  [17, 7, 8, 7, 9, 3, 5, 4, 1, 0, 11, 12, 2]\n"
          ]
        }
      ]
    },
    {
      "cell_type": "markdown",
      "metadata": {
        "id": "gpAGbYQH-Nu1"
      },
      "source": [
        "2. Find the fifth smallest number from the list."
      ]
    },
    {
      "cell_type": "code",
      "metadata": {
        "colab": {
          "base_uri": "https://localhost:8080/"
        },
        "id": "5iOhUT86BAV5",
        "outputId": "7e0f061b-8c7a-4407-a8ff-32004cd16b18"
      },
      "source": [
        "lists=[11,2,67,6,26,5,4,76,77]\n",
        "lists.sort()\n",
        "print(lists)\n",
        "print(lists[4])"
      ],
      "execution_count": null,
      "outputs": [
        {
          "output_type": "stream",
          "name": "stdout",
          "text": [
            "[2, 4, 5, 6, 11, 26, 67, 76, 77]\n",
            "11\n"
          ]
        }
      ]
    },
    {
      "cell_type": "markdown",
      "metadata": {
        "id": "56LGS3SM-TUl"
      },
      "source": [
        "3. Replace the last element in a list with another list"
      ]
    },
    {
      "cell_type": "code",
      "metadata": {
        "colab": {
          "base_uri": "https://localhost:8080/"
        },
        "id": "c01RkK-UBvhv",
        "outputId": "617371f2-ce06-44d7-f384-b4ddbd7cbd5a"
      },
      "source": [
        "lst1= [1, 3, 5, 8, 10, 9] \n",
        "lst2=[2, 7, 9]\n",
        "print(lst1+lst2)\n"
      ],
      "execution_count": null,
      "outputs": [
        {
          "output_type": "stream",
          "name": "stdout",
          "text": [
            "[1, 3, 5, 8, 10, 9, 2, 7, 9]\n"
          ]
        }
      ]
    },
    {
      "cell_type": "markdown",
      "metadata": {
        "id": "73lfvhAi-Y-R"
      },
      "source": [
        "4. Sort the list and pickup first three values and append to the sorted list"
      ]
    },
    {
      "cell_type": "code",
      "metadata": {
        "colab": {
          "base_uri": "https://localhost:8080/"
        },
        "id": "RXdr5eO7CDQm",
        "outputId": "195734dd-500c-4c6f-9400-03be66c2e9dc"
      },
      "source": [
        "List= [12,3,4,98,100,75]\n",
        "List.sort()\n",
        "print(List)\n",
        "lst1=List[0:3]\n",
        "List=List[4:]\n",
        "List.append(lst1)\n",
        "print(List)"
      ],
      "execution_count": null,
      "outputs": [
        {
          "output_type": "stream",
          "name": "stdout",
          "text": [
            "[3, 4, 12, 75, 98, 100]\n",
            "[98, 100, [3, 4, 12]]\n"
          ]
        }
      ]
    },
    {
      "cell_type": "markdown",
      "metadata": {
        "id": "cIQGSa0w-hI_"
      },
      "source": [
        "5. Find mean of items in the list and check whether mean is present in the list."
      ]
    },
    {
      "cell_type": "code",
      "metadata": {
        "colab": {
          "base_uri": "https://localhost:8080/"
        },
        "id": "3_p1aUBdIB8L",
        "outputId": "96b40f4f-2d27-44a9-e394-81da0f1761cf"
      },
      "source": [
        "ylist =  [1, 2, 5, 8, 9, 10, 0]\n",
        "sum=0\n",
        "for i in mylist:\n",
        "  sum=sum+i\n",
        "x=sum/len(mylist)\n",
        "print(x)\n",
        "for i in mylist:\n",
        "  if(i==x):\n",
        "    print(\"yes mean is here \")\n",
        "    break;\n"
      ],
      "execution_count": null,
      "outputs": [
        {
          "output_type": "stream",
          "name": "stdout",
          "text": [
            "5.0\n",
            "yes mean is here \n"
          ]
        }
      ]
    },
    {
      "cell_type": "markdown",
      "metadata": {
        "id": "tduOv4sT-oFa"
      },
      "source": [
        "6. Given two strings, append each of those strings to two different empty list. Multiply those list by the length of the string present in the corresponding list and then concatenate the two lists."
      ]
    },
    {
      "cell_type": "code",
      "metadata": {
        "colab": {
          "base_uri": "https://localhost:8080/"
        },
        "id": "brwx_4V-QEuj",
        "outputId": "7947062e-16f3-4fe4-84ee-7e6d615eb326"
      },
      "source": [
        "string1=\"Hello\"\n",
        "string2= \"Ryan\"\n",
        "lst1=[string1]\n",
        "lst2=[string2]\n",
        "lists1=len(string1)*(lst1)\n",
        "lists2=len(string2)*(lst2)\n",
        "print(lists1+lists2)"
      ],
      "execution_count": null,
      "outputs": [
        {
          "output_type": "stream",
          "name": "stdout",
          "text": [
            "['Hello', 'Hello', 'Hello', 'Hello', 'Hello', 'Ryan', 'Ryan', 'Ryan', 'Ryan']\n"
          ]
        }
      ]
    },
    {
      "cell_type": "markdown",
      "metadata": {
        "id": "oLcTs0KI-vJ0"
      },
      "source": [
        "7. Remove the first occurrence of the given string from the list and replace it with its reverse string"
      ]
    },
    {
      "cell_type": "code",
      "metadata": {
        "id": "QbSsKbQuZzuH",
        "colab": {
          "base_uri": "https://localhost:8080/"
        },
        "outputId": "abb582b1-966c-4fcd-fd7f-c3734cc9debf"
      },
      "source": [
        "list=['Hello', 'John', 'Noice', 'Hello', 'again', 'Hello']\n",
        "for i in range(len(list)):\n",
        "  print(list[i])\n",
        "list.remove('Hello');\n",
        "print(\"the list after removing:\")\n",
        "for i in range(len(list)):\n",
        "  print(list[i])\n",
        "res=[i[::-1]for i in list]\n",
        "print(\" = \"+str(res))\n",
        "\n",
        "\n"
      ],
      "execution_count": 15,
      "outputs": [
        {
          "output_type": "stream",
          "name": "stdout",
          "text": [
            "Hello\n",
            "John\n",
            "Noice\n",
            "Hello\n",
            "again\n",
            "Hello\n",
            "the list after removing:\n",
            "John\n",
            "Noice\n",
            "Hello\n",
            "again\n",
            "Hello\n",
            " = ['nhoJ', 'ecioN', 'olleH', 'niaga', 'olleH']\n"
          ]
        }
      ]
    },
    {
      "cell_type": "markdown",
      "metadata": {
        "id": "OIF3rwqM_FvU"
      },
      "source": [
        "Dictionary\n",
        "\n",
        "1. Merge two dictionaries."
      ]
    },
    {
      "cell_type": "code",
      "metadata": {
        "id": "Xp-Tc525_NBz",
        "colab": {
          "base_uri": "https://localhost:8080/"
        },
        "outputId": "2111adf5-55a8-4922-a547-8cc94deaaa90"
      },
      "source": [
        "def Merge(d1,d2):\n",
        "  res = {**d1 , **d2}\n",
        "  return res\n",
        "d1={\"FirstName\":\"Rahul\", \"age\":9}\n",
        "d2={\"LastName\":\"Vaidya\", \"class\":10}\n",
        "d3=Merge(d1,d2)\n",
        "print(d3)"
      ],
      "execution_count": 28,
      "outputs": [
        {
          "output_type": "stream",
          "name": "stdout",
          "text": [
            "{'FirstName': 'Rahul', 'age': 9, 'LastName': 'Vaidya', 'class': 10}\n"
          ]
        }
      ]
    },
    {
      "cell_type": "markdown",
      "metadata": {
        "id": "NcMo9fRQ_OdM"
      },
      "source": [
        "2. Sum all the values of keys in a dictionary."
      ]
    },
    {
      "cell_type": "code",
      "metadata": {
        "id": "MimYgtnn_Eiy",
        "colab": {
          "base_uri": "https://localhost:8080/"
        },
        "outputId": "eb8895bc-ab5a-4f34-db3d-2ee3a1d7128b"
      },
      "source": [
        " Dic= {1:2, 3:4, 5:6, 7:8}\n",
        " sum=0\n",
        " for i in Dic:\n",
        "   sum=sum+Dic[i]\n",
        "print(sum)"
      ],
      "execution_count": 32,
      "outputs": [
        {
          "output_type": "stream",
          "name": "stdout",
          "text": [
            "20\n"
          ]
        }
      ]
    },
    {
      "cell_type": "markdown",
      "metadata": {
        "id": "bwEUh2IV_Vbd"
      },
      "source": [
        "3. Count the values associated with each key in a dictionary. If number of values associated with any key is greater than equal to 5, remove the last element from that value."
      ]
    },
    {
      "cell_type": "code",
      "metadata": {
        "id": "R1_xcyhv_T6x",
        "colab": {
          "base_uri": "https://localhost:8080/"
        },
        "outputId": "f095a417-d170-499f-9bd4-b9ebe9f650e1"
      },
      "source": [
        "Dic = {1:[1,2,3], 2:[2,3,4,5], 3:[2,3,4,5,6], 4:[1,2]}\n",
        "count=5\n",
        "for key in Dic:\n",
        "  print(len(Dic[key]))\n",
        "  print(Dic[key])\n",
        "  "
      ],
      "execution_count": 73,
      "outputs": [
        {
          "output_type": "stream",
          "name": "stdout",
          "text": [
            "3\n",
            "[1, 2, 3]\n",
            "4\n",
            "[2, 3, 4, 5]\n",
            "5\n",
            "[2, 3, 4, 5, 6]\n",
            "2\n",
            "[1, 2]\n"
          ]
        }
      ]
    },
    {
      "cell_type": "markdown",
      "metadata": {
        "id": "iwOQS2u4_h2f"
      },
      "source": [
        "4. Make a list of unique values from dictionary values."
      ]
    },
    {
      "cell_type": "code",
      "metadata": {
        "id": "WLR0_ZSd_hOY",
        "colab": {
          "base_uri": "https://localhost:8080/"
        },
        "outputId": "96bca66b-8911-4232-99d7-3dab28d71898"
      },
      "source": [
        "test_list = [{\"apple\": 1, \"mango\": 2, \"orange\":1, \"banana\":2}]\n",
        "print(\"The original list : \" +  str(test_list))\n",
        "res = set(val for dic in test_list for val in dic.values())\n",
        "print(\"The unique values in list are : \",res)"
      ],
      "execution_count": 78,
      "outputs": [
        {
          "output_type": "stream",
          "name": "stdout",
          "text": [
            "The original list : [{'apple': 1, 'mango': 2, 'orange': 1, 'banana': 2}]\n",
            "The unique values in list are :  {1, 2}\n"
          ]
        }
      ]
    },
    {
      "cell_type": "markdown",
      "metadata": {
        "id": "77fpSIAF_nlO"
      },
      "source": [
        "5. Make a dictionary. The items in the list should be keys in the dictionary and their corresponding index should be values of the keys."
      ]
    },
    {
      "cell_type": "code",
      "metadata": {
        "id": "kiYFeSLM_nBE",
        "colab": {
          "base_uri": "https://localhost:8080/"
        },
        "outputId": "367f3381-6512-439f-f8d5-c411d6ca04ec"
      },
      "source": [
        "L1 = [2,68,7,8,98,70]\n",
        "L2 = [1,2,3,4,5,6]\n",
        "d = {k:v for k,v in zip(L1,L2)}\n",
        "d"
      ],
      "execution_count": 81,
      "outputs": [
        {
          "output_type": "execute_result",
          "data": {
            "text/plain": [
              "{2: 1, 7: 3, 8: 4, 68: 2, 70: 6, 98: 5}"
            ]
          },
          "metadata": {},
          "execution_count": 81
        }
      ]
    },
    {
      "cell_type": "markdown",
      "metadata": {
        "id": "fST1zIBJ_t4S"
      },
      "source": [
        "6. Access the value of key ‘python2’:"
      ]
    },
    {
      "cell_type": "code",
      "metadata": {
        "id": "qXGX4e7U_tRa"
      },
      "source": [
        "sampleDict = { \n",
        "\n",
        "   \"sabudh\":{ \n",
        "\n",
        "      \"intern\":{ \n",
        "\n",
        "         \"name\":\"Mike\",\n",
        "\n",
        "         \"marks\":{ \n",
        "\n",
        "            \"python1\":70,\n",
        "\n",
        "            \"python2\":80\n",
        "\n",
        "         }\n",
        "\n",
        "      }\n",
        "\n",
        "   }\n",
        "\n",
        "}\n",
        "if key in sampleDict.keys():\n",
        "  print(\"value=\",key)\n"
      ],
      "execution_count": 88,
      "outputs": []
    },
    {
      "cell_type": "markdown",
      "metadata": {
        "id": "ZUmO_blY_1y9"
      },
      "source": [
        "7.  Check if a value ‘bunny’ exists in a dictionary:"
      ]
    },
    {
      "cell_type": "code",
      "metadata": {
        "id": "UYzroUYU_1bo",
        "colab": {
          "base_uri": "https://localhost:8080/"
        },
        "outputId": "cb7901a2-a4d9-428f-9ea1-27a39b95f6ce"
      },
      "source": [
        "sampleDict = {'a': 'antelope', 'b': 'bunny', 'c': 'cat'}\n",
        "key='b'\n",
        "if key in sampleDict.keys():\n",
        "  print(\"present bunny\")\n",
        "else:\n",
        "  print(\"not bunny here\")\n"
      ],
      "execution_count": 79,
      "outputs": [
        {
          "output_type": "stream",
          "name": "stdout",
          "text": [
            "present bunny\n"
          ]
        }
      ]
    },
    {
      "cell_type": "markdown",
      "metadata": {
        "id": "pIQ198UN-Czn"
      },
      "source": [
        ""
      ]
    }
  ]
}