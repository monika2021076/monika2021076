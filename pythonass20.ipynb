{
  "nbformat": 4,
  "nbformat_minor": 0,
  "metadata": {
    "colab": {
      "name": "pythonass20.ipynb",
      "provenance": [],
      "collapsed_sections": []
    },
    "kernelspec": {
      "name": "python3",
      "display_name": "Python 3"
    },
    "language_info": {
      "name": "python"
    }
  },
  "cells": [
    {
      "cell_type": "code",
      "metadata": {
        "colab": {
          "base_uri": "https://localhost:8080/"
        },
        "id": "3RmiMHWV6OZb",
        "outputId": "52c390cb-946f-4bab-8239-1baffc68bce2"
      },
      "source": [
        "#creating a function  \n",
        "def swap_pos(lst,a,b):  \n",
        "#using the swapping approach  \n",
        "    lst[a], lst[b] = lst[b], lst[a]  \n",
        "    return lst  \n",
        "#initialising the list  \n",
        "lst_val = [2,7,8,7,9,3,5,4,1,0,11,12,17] \n",
        "#displaying the original list  \n",
        "print(\"The values inside the list are: \",lst_val)  \n",
        "#specifying the positions  \n",
        "a, b = 0,-1 \n",
        "#passing the values in function  \n",
        "print(\"The list with swapped elements is: \",swap_pos(lst_val,a,b))  "
      ],
      "execution_count": 26,
      "outputs": [
        {
          "output_type": "stream",
          "name": "stdout",
          "text": [
            "The values inside the list are:  [2, 7, 8, 7, 9, 3, 5, 4, 1, 0, 11, 12, 17]\n",
            "The list with swapped elements is:  [17, 7, 8, 7, 9, 3, 5, 4, 1, 0, 11, 12, 2]\n"
          ]
        }
      ]
    },
    {
      "cell_type": "code",
      "metadata": {
        "colab": {
          "base_uri": "https://localhost:8080/"
        },
        "id": "5iOhUT86BAV5",
        "outputId": "7e0f061b-8c7a-4407-a8ff-32004cd16b18"
      },
      "source": [
        "lists=[11,2,67,6,26,5,4,76,77]\n",
        "lists.sort()\n",
        "print(lists)\n",
        "print(lists[4])"
      ],
      "execution_count": 29,
      "outputs": [
        {
          "output_type": "stream",
          "name": "stdout",
          "text": [
            "[2, 4, 5, 6, 11, 26, 67, 76, 77]\n",
            "11\n"
          ]
        }
      ]
    },
    {
      "cell_type": "code",
      "metadata": {
        "colab": {
          "base_uri": "https://localhost:8080/"
        },
        "id": "c01RkK-UBvhv",
        "outputId": "617371f2-ce06-44d7-f384-b4ddbd7cbd5a"
      },
      "source": [
        "lst1= [1, 3, 5, 8, 10, 9] \n",
        "lst2=[2, 7, 9]\n",
        "print(lst1+lst2)\n"
      ],
      "execution_count": 30,
      "outputs": [
        {
          "output_type": "stream",
          "name": "stdout",
          "text": [
            "[1, 3, 5, 8, 10, 9, 2, 7, 9]\n"
          ]
        }
      ]
    },
    {
      "cell_type": "code",
      "metadata": {
        "colab": {
          "base_uri": "https://localhost:8080/"
        },
        "id": "RXdr5eO7CDQm",
        "outputId": "195734dd-500c-4c6f-9400-03be66c2e9dc"
      },
      "source": [
        "List= [12,3,4,98,100,75]\n",
        "List.sort()\n",
        "print(List)\n",
        "lst1=List[0:3]\n",
        "List=List[4:]\n",
        "List.append(lst1)\n",
        "print(List)"
      ],
      "execution_count": 39,
      "outputs": [
        {
          "output_type": "stream",
          "name": "stdout",
          "text": [
            "[3, 4, 12, 75, 98, 100]\n",
            "[98, 100, [3, 4, 12]]\n"
          ]
        }
      ]
    },
    {
      "cell_type": "code",
      "metadata": {
        "colab": {
          "base_uri": "https://localhost:8080/"
        },
        "id": "3_p1aUBdIB8L",
        "outputId": "96b40f4f-2d27-44a9-e394-81da0f1761cf"
      },
      "source": [
        "mylist =  [1, 2, 5, 8, 9, 10, 0]\n",
        "sum=0\n",
        "for i in mylist:\n",
        "  sum=sum+i\n",
        "x=sum/len(mylist)\n",
        "print(x)\n",
        "for i in mylist:\n",
        "  if(i==x):\n",
        "    print(\"yes mean is here \")\n",
        "    break;\n"
      ],
      "execution_count": 77,
      "outputs": [
        {
          "output_type": "stream",
          "name": "stdout",
          "text": [
            "5.0\n",
            "yes mean is here \n"
          ]
        }
      ]
    },
    {
      "cell_type": "code",
      "metadata": {
        "colab": {
          "base_uri": "https://localhost:8080/"
        },
        "id": "brwx_4V-QEuj",
        "outputId": "7947062e-16f3-4fe4-84ee-7e6d615eb326"
      },
      "source": [
        "string1=\"Hello\"\n",
        "string2= \"Ryan\"\n",
        "lst1=[string1]\n",
        "lst2=[string2]\n",
        "lists1=len(string1)*(lst1)\n",
        "lists2=len(string2)*(lst2)\n",
        "print(lists1+lists2)"
      ],
      "execution_count": 102,
      "outputs": [
        {
          "output_type": "stream",
          "name": "stdout",
          "text": [
            "['Hello', 'Hello', 'Hello', 'Hello', 'Hello', 'Ryan', 'Ryan', 'Ryan', 'Ryan']\n"
          ]
        }
      ]
    },
    {
      "cell_type": "code",
      "metadata": {
        "colab": {
          "base_uri": "https://localhost:8080/",
          "height": 229
        },
        "id": "QbSsKbQuZzuH",
        "outputId": "77a0ba2e-c940-4eb6-cc0d-8a83db754e6b"
      },
      "source": [
        "lists=['Hello', 'John', 'Noice', 'Hello', 'again', 'Hello']\n",
        "lists[0::-1]=lists[::-1]\n",
        "string1=lists[0]\n",
        "lists.remove(lists[0])\n",
        "print(lists)\n",
        "print(string1+lists)\n",
        "\n",
        "\n"
      ],
      "execution_count": 114,
      "outputs": [
        {
          "output_type": "error",
          "ename": "ValueError",
          "evalue": "ignored",
          "traceback": [
            "\u001b[0;31m---------------------------------------------------------------------------\u001b[0m",
            "\u001b[0;31mValueError\u001b[0m                                Traceback (most recent call last)",
            "\u001b[0;32m<ipython-input-114-e4764e9c0df2>\u001b[0m in \u001b[0;36m<module>\u001b[0;34m()\u001b[0m\n\u001b[1;32m      1\u001b[0m \u001b[0mlists\u001b[0m\u001b[0;34m=\u001b[0m\u001b[0;34m[\u001b[0m\u001b[0;34m'Hello'\u001b[0m\u001b[0;34m,\u001b[0m \u001b[0;34m'John'\u001b[0m\u001b[0;34m,\u001b[0m \u001b[0;34m'Noice'\u001b[0m\u001b[0;34m,\u001b[0m \u001b[0;34m'Hello'\u001b[0m\u001b[0;34m,\u001b[0m \u001b[0;34m'again'\u001b[0m\u001b[0;34m,\u001b[0m \u001b[0;34m'Hello'\u001b[0m\u001b[0;34m]\u001b[0m\u001b[0;34m\u001b[0m\u001b[0;34m\u001b[0m\u001b[0m\n\u001b[0;32m----> 2\u001b[0;31m \u001b[0mlists\u001b[0m\u001b[0;34m[\u001b[0m\u001b[0;36m0\u001b[0m\u001b[0;34m:\u001b[0m\u001b[0;34m:\u001b[0m\u001b[0;34m-\u001b[0m\u001b[0;36m1\u001b[0m\u001b[0;34m]\u001b[0m\u001b[0;34m=\u001b[0m\u001b[0mlists\u001b[0m\u001b[0;34m[\u001b[0m\u001b[0;34m:\u001b[0m\u001b[0;34m:\u001b[0m\u001b[0;34m-\u001b[0m\u001b[0;36m1\u001b[0m\u001b[0;34m]\u001b[0m\u001b[0;34m\u001b[0m\u001b[0;34m\u001b[0m\u001b[0m\n\u001b[0m\u001b[1;32m      3\u001b[0m \u001b[0mstring1\u001b[0m\u001b[0;34m=\u001b[0m\u001b[0mlists\u001b[0m\u001b[0;34m[\u001b[0m\u001b[0;36m0\u001b[0m\u001b[0;34m]\u001b[0m\u001b[0;34m\u001b[0m\u001b[0;34m\u001b[0m\u001b[0m\n\u001b[1;32m      4\u001b[0m \u001b[0mlists\u001b[0m\u001b[0;34m.\u001b[0m\u001b[0mremove\u001b[0m\u001b[0;34m(\u001b[0m\u001b[0mlists\u001b[0m\u001b[0;34m[\u001b[0m\u001b[0;36m0\u001b[0m\u001b[0;34m]\u001b[0m\u001b[0;34m)\u001b[0m\u001b[0;34m\u001b[0m\u001b[0;34m\u001b[0m\u001b[0m\n\u001b[1;32m      5\u001b[0m \u001b[0mprint\u001b[0m\u001b[0;34m(\u001b[0m\u001b[0mlists\u001b[0m\u001b[0;34m)\u001b[0m\u001b[0;34m\u001b[0m\u001b[0;34m\u001b[0m\u001b[0m\n",
            "\u001b[0;31mValueError\u001b[0m: attempt to assign sequence of size 6 to extended slice of size 1"
          ]
        }
      ]
    }
  ]
}